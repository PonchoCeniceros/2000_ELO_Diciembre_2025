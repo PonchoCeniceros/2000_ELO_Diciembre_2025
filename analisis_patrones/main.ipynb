{
 "cells": [
  {
   "cell_type": "markdown",
   "id": "9df1959e",
   "metadata": {},
   "source": [
    "# Analisis de Patrones"
   ]
  },
  {
   "cell_type": "code",
   "execution_count": 1,
   "id": "e7a96c29",
   "metadata": {},
   "outputs": [],
   "source": [
    "import re\n",
    "import chess\n",
    "import chess.svg\n",
    "import pandas as pd\n",
    "import ipywidgets as widgets\n",
    "from IPython.display import display, HTML, SVG, clear_output\n",
    "from utils import generate_df, count_moves, count_moves, ChessGamesGrid"
   ]
  },
  {
   "cell_type": "markdown",
   "id": "369e3dc4-df11-41b2-8342-cc17c83b95fc",
   "metadata": {},
   "source": [
    "### Extracción y procesamiento de la data de partidas"
   ]
  },
  {
   "cell_type": "code",
   "execution_count": 2,
   "id": "b3f3b042",
   "metadata": {},
   "outputs": [
    {
     "data": {
      "text/html": [
       "<div>\n",
       "<style scoped>\n",
       "    .dataframe tbody tr th:only-of-type {\n",
       "        vertical-align: middle;\n",
       "    }\n",
       "\n",
       "    .dataframe tbody tr th {\n",
       "        vertical-align: top;\n",
       "    }\n",
       "\n",
       "    .dataframe thead th {\n",
       "        text-align: right;\n",
       "    }\n",
       "</style>\n",
       "<table border=\"1\" class=\"dataframe\">\n",
       "  <thead>\n",
       "    <tr style=\"text-align: right;\">\n",
       "      <th></th>\n",
       "      <th>pieces</th>\n",
       "      <th>result</th>\n",
       "      <th>opening</th>\n",
       "      <th>midgame + endgame</th>\n",
       "      <th>moves</th>\n",
       "    </tr>\n",
       "  </thead>\n",
       "  <tbody>\n",
       "    <tr>\n",
       "      <th>0</th>\n",
       "      <td>black</td>\n",
       "      <td>1-0</td>\n",
       "      <td>1. e4 c5 2. Nf3 Nc6 3. Bc4 e6 4. Nc3 g6 5. d3 ...</td>\n",
       "      <td>8. a3 Rb8 9. Bh6 O-O 10. Bxg7 Kxg7 11. Ne2 b5 ...</td>\n",
       "      <td>39.5</td>\n",
       "    </tr>\n",
       "    <tr>\n",
       "      <th>1</th>\n",
       "      <td>black</td>\n",
       "      <td>1-0</td>\n",
       "      <td>1. e4 c5 2. Nf3 g6 3. d4 cxd4 4. Nxd4 Bg7 5. N...</td>\n",
       "      <td>8. Bd2 Bxc3 9. Bxc6 bxc6 10. Bxc3 Qc5 11. O-O ...</td>\n",
       "      <td>29.5</td>\n",
       "    </tr>\n",
       "    <tr>\n",
       "      <th>2</th>\n",
       "      <td>black</td>\n",
       "      <td>0-1</td>\n",
       "      <td>1. e4 c5 2. Bc4 e6 3. c3 Nc6 4. Nf3 Nf6 5. e5 ...</td>\n",
       "      <td>8. d4 Nxc4 0-1</td>\n",
       "      <td>8.0</td>\n",
       "    </tr>\n",
       "    <tr>\n",
       "      <th>3</th>\n",
       "      <td>black</td>\n",
       "      <td>1-0</td>\n",
       "      <td>1. d4 c5 2. e4 cxd4 3. Qxd4 Nc6 4. Qc5 d6 5. Q...</td>\n",
       "      <td>8. Bf4 h6 9. Nc3 a6 10. Qc5 b6 11. Qa3 g6 12. ...</td>\n",
       "      <td>21.5</td>\n",
       "    </tr>\n",
       "    <tr>\n",
       "      <th>4</th>\n",
       "      <td>black</td>\n",
       "      <td>1-0</td>\n",
       "      <td>1. e4 c5 2. Nf3 d6 3. Bc4 e6 4. d3 Nc6 5. Bg5 ...</td>\n",
       "      <td>8. Bg3 Bg7 9. e5 dxe5 10. Bxe5 Nxe5 11. Nxe5 B...</td>\n",
       "      <td>18.5</td>\n",
       "    </tr>\n",
       "  </tbody>\n",
       "</table>\n",
       "</div>"
      ],
      "text/plain": [
       "  pieces result                                            opening  \\\n",
       "0  black    1-0  1. e4 c5 2. Nf3 Nc6 3. Bc4 e6 4. Nc3 g6 5. d3 ...   \n",
       "1  black    1-0  1. e4 c5 2. Nf3 g6 3. d4 cxd4 4. Nxd4 Bg7 5. N...   \n",
       "2  black    0-1  1. e4 c5 2. Bc4 e6 3. c3 Nc6 4. Nf3 Nf6 5. e5 ...   \n",
       "3  black    1-0  1. d4 c5 2. e4 cxd4 3. Qxd4 Nc6 4. Qc5 d6 5. Q...   \n",
       "4  black    1-0  1. e4 c5 2. Nf3 d6 3. Bc4 e6 4. d3 Nc6 5. Bg5 ...   \n",
       "\n",
       "                                   midgame + endgame  moves  \n",
       "0  8. a3 Rb8 9. Bh6 O-O 10. Bxg7 Kxg7 11. Ne2 b5 ...   39.5  \n",
       "1  8. Bd2 Bxc3 9. Bxc6 bxc6 10. Bxc3 Qc5 11. O-O ...   29.5  \n",
       "2                                     8. d4 Nxc4 0-1    8.0  \n",
       "3  8. Bf4 h6 9. Nc3 a6 10. Qc5 b6 11. Qa3 g6 12. ...   21.5  \n",
       "4  8. Bg3 Bg7 9. e5 dxe5 10. Bxe5 Nxe5 11. Nxe5 B...   18.5  "
      ]
     },
     "execution_count": 2,
     "metadata": {},
     "output_type": "execute_result"
    }
   ],
   "source": [
    "chess_df = generate_df(\"data/demo.txt\")\n",
    "chess_df[\"moves\"] = chess_df[\"midgame + endgame\"].apply(count_moves)\n",
    "chess_df.head()"
   ]
  },
  {
   "cell_type": "markdown",
   "id": "63988597-8d97-45d0-bdbb-5021b34dd705",
   "metadata": {},
   "source": [
    "### Aplicación de filtros"
   ]
  },
  {
   "cell_type": "code",
   "execution_count": 3,
   "id": "24570b4d-6fd8-4bb1-878e-fa120714bada",
   "metadata": {},
   "outputs": [],
   "source": [
    "games = chess_df[\"opening\"].head(25).tolist()"
   ]
  },
  {
   "cell_type": "markdown",
   "id": "d919f867-6473-4242-b344-55107902fba9",
   "metadata": {},
   "source": [
    "### _Grid_ de análisis simultaneo"
   ]
  },
  {
   "cell_type": "code",
   "execution_count": 4,
   "id": "2670ffe4-c5b7-40c7-a47c-48b1f65091d9",
   "metadata": {},
   "outputs": [
    {
     "data": {
      "application/vnd.jupyter.widget-view+json": {
       "model_id": "b52a74f0fc06446cb5f0c2f64c0765f1",
       "version_major": 2,
       "version_minor": 0
      },
      "text/plain": [
       "HBox(children=(Button(description='◀️ Anterior', style=ButtonStyle()), Button(description='Siguiente ▶️', styl…"
      ]
     },
     "metadata": {},
     "output_type": "display_data"
    },
    {
     "data": {
      "application/vnd.jupyter.widget-view+json": {
       "model_id": "96dd6e4512d342ed8066ecaf2d485f64",
       "version_major": 2,
       "version_minor": 0
      },
      "text/plain": [
       "Output()"
      ]
     },
     "metadata": {},
     "output_type": "display_data"
    }
   ],
   "source": [
    "grid = ChessGamesGrid(games, cols=5, flip_view=True)"
   ]
  },
  {
   "cell_type": "code",
   "execution_count": null,
   "id": "98e8ab65-02ee-4f8a-907e-dd1e40c55f09",
   "metadata": {},
   "outputs": [],
   "source": []
  }
 ],
 "metadata": {
  "kernelspec": {
   "display_name": "Python 3 (ipykernel)",
   "language": "python",
   "name": "python3"
  },
  "language_info": {
   "codemirror_mode": {
    "name": "ipython",
    "version": 3
   },
   "file_extension": ".py",
   "mimetype": "text/x-python",
   "name": "python",
   "nbconvert_exporter": "python",
   "pygments_lexer": "ipython3",
   "version": "3.13.1"
  }
 },
 "nbformat": 4,
 "nbformat_minor": 5
}
